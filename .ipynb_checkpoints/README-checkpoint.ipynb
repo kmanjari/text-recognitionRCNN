{
 "cells": [
  {
   "cell_type": "markdown",
   "metadata": {},
   "source": [
    "# Text Detector Training script \n",
    "**based on `Object Detection API` from `TensorFlow`**"
   ]
  },
  {
   "cell_type": "markdown",
   "metadata": {},
   "source": [
    "## 1- From tensorflow/models/\n",
    "\n",
    "```shell\n",
    "protoc object_detection/protos/*.proto --python_out=.\n",
    "export PYTHONPATH=$PYTHONPATH:`pwd`:`pwd`/slim\n",
    "sudo python setup.py install\n",
    "```"
   ]
  },
  {
   "cell_type": "markdown",
   "metadata": {},
   "source": [
    "## 2- Create the dataset\n",
    "\n",
    "The dataset contains images of objects that we want to detect in the scene. In our case the we want to detect one object. That object was a text."
   ]
  },
  {
   "cell_type": "markdown",
   "metadata": {},
   "source": [
    "## 3- Convert `xml` annotations files into one `csv` file using `xml_to_csv.py`\n",
    "\n",
    "```shell\n",
    "python xml_to_csv_train.py\n",
    "python xml_to_csv_test.py\n",
    "```"
   ]
  },
  {
   "cell_type": "markdown",
   "metadata": {},
   "source": [
    "## 4- Extract the TFRecord from the annotations of labels using `generate_tfrecord.py`. \n",
    "\n",
    "It used as input files to the configurations of pre-trained models.\n",
    "\n",
    "```shell\n",
    "python generate_tfrecord.py --csv_input=dataset/train/text_train_labels.csv  --output_path=pre_trained_models/data/text_train.record\n",
    "\n",
    "python generate_tfrecord.py --csv_input=dataset/test/text_test_labels.csv  --output_path=pre_trained_models/data/text_test.record\n",
    "```"
   ]
  },
  {
   "cell_type": "markdown",
   "metadata": {},
   "source": [
    "## 5- Create the `text_label_map.pbtxt` in the data folder.\n",
    "\n",
    "It contines a mapping of the different class used in the training process. while we have just a one class, named `text`, to train so the mapping will be right that.\n",
    "\n",
    "\n",
    "```json\n",
    "item {\n",
    "  id: 1\n",
    "  name: 'text'\n",
    "}\n",
    "``` "
   ]
  },
  {
   "cell_type": "markdown",
   "metadata": {},
   "source": [
    "## 6- Run the training process\n",
    "\n",
    "- **Using SSD Mobilenet V1** \n",
    "\n",
    "```shell\n",
    "python train.py --logtostderr --train_dir=training/text_ssd_mobilenet/ --pipeline_config_path=pre_trained_models/ssd_mobilenet_v1_pets.config\n",
    "```\n",
    "\n",
    "- **Using Faster RCNN Resnet V1**\n",
    "\n",
    "```shell\n",
    "python train.py --logtostderr --train_dir=training/faster_rcnn_resnet_v1/ --pipeline_config_path=pre_trained_models/faster_rcnn_resnet101_coco.config\n",
    "```\n",
    "\n",
    "- **Using Faster RCNN Inception V2**\n",
    "\n",
    "```shell\n",
    "python train.py --logtostderr --train_dir=training/text_faster_rcnn_inception_v2/ --pipeline_config_path=pre_trained_models/faster_rcnn_inception_v2_pets.config\n",
    "```"
   ]
  },
  {
   "cell_type": "markdown",
   "metadata": {},
   "source": [
    "## 7- Training Visualization using `TensorBoard`\n",
    "\n",
    "```shell\n",
    "tensorboard --logdir='training/ssd_mobilenet/'\n",
    "tensorboard --logdir='training/faster_rcnn_resnet_v1/'\n",
    "tensorboard --logdir='training/faster_rcnn_inception_resnet_v2/'\n",
    "```\n",
    "\n",
    "This runs on 127.0.0.1:6006 (visit in your browser)"
   ]
  },
  {
   "cell_type": "markdown",
   "metadata": {},
   "source": [
    "## 8- Export the graph\n",
    "\n",
    "```shell\n",
    "python export_inference_graph.py \\\n",
    "    --input_type image_tensor \\\n",
    "    --pipeline_config_path pre_trained_models/ssd_mobilenet_v1_pets.config \\\n",
    "    --trained_checkpoint_prefix  training/text_ssd_mobilenet/model.ckpt-1972 \\\n",
    "    --output_directory output_graphs/text_detection_graph\n",
    "```"
   ]
  },
  {
   "cell_type": "markdown",
   "metadata": {
    "collapsed": true
   },
   "source": [
    "## 9- Evaluation\n",
    "\n",
    "```shell\n",
    "python eval.py \\\n",
    "    --logtostderr \\\n",
    "    --pipeline_config_path pre_trained_models/ssd_mobilenet_v1_pets.config \\\n",
    "    --checkpoint_dir=training/text_ssd_mobilenet \\\n",
    "    --eval_dir=evaluations/ssd_mobilnet_v1\n",
    "```"
   ]
  }
 ],
 "metadata": {
  "kernelspec": {
   "display_name": "Python 3",
   "language": "python",
   "name": "python3"
  },
  "language_info": {
   "codemirror_mode": {
    "name": "ipython",
    "version": 3
   },
   "file_extension": ".py",
   "mimetype": "text/x-python",
   "name": "python",
   "nbconvert_exporter": "python",
   "pygments_lexer": "ipython3",
   "version": "3.6.5"
  },
  "latex_envs": {
   "LaTeX_envs_menu_present": true,
   "autoclose": false,
   "autocomplete": true,
   "bibliofile": "biblio.bib",
   "cite_by": "apalike",
   "current_citInitial": 1,
   "eqLabelWithNumbers": true,
   "eqNumInitial": 1,
   "hotkeys": {
    "equation": "Ctrl-E",
    "itemize": "Ctrl-I"
   },
   "labels_anchors": false,
   "latex_user_defs": false,
   "report_style_numbering": false,
   "user_envs_cfg": false
  },
  "toc": {
   "nav_menu": {},
   "number_sections": true,
   "sideBar": true,
   "skip_h1_title": false,
   "toc_cell": false,
   "toc_position": {},
   "toc_section_display": "block",
   "toc_window_display": false
  },
  "varInspector": {
   "cols": {
    "lenName": 16,
    "lenType": 16,
    "lenVar": 40
   },
   "kernels_config": {
    "python": {
     "delete_cmd_postfix": "",
     "delete_cmd_prefix": "del ",
     "library": "var_list.py",
     "varRefreshCmd": "print(var_dic_list())"
    },
    "r": {
     "delete_cmd_postfix": ") ",
     "delete_cmd_prefix": "rm(",
     "library": "var_list.r",
     "varRefreshCmd": "cat(var_dic_list()) "
    }
   },
   "types_to_exclude": [
    "module",
    "function",
    "builtin_function_or_method",
    "instance",
    "_Feature"
   ],
   "window_display": false
  }
 },
 "nbformat": 4,
 "nbformat_minor": 2
}
